{
 "cells": [
  {
   "cell_type": "markdown",
   "metadata": {},
   "source": [
    "### CS4423 - Networks\n",
    "Prof. Götz Pfeiffer<br />\n",
    "School of Mathematics, Statistics and Applied Mathematics<br />\n",
    "NUI Galway"
   ]
  },
  {
   "cell_type": "markdown",
   "metadata": {},
   "source": [
    "# Assignment 1"
   ]
  },
  {
   "cell_type": "markdown",
   "metadata": {},
   "source": [
    "Provide answers to the problems in the boxes provided.  Marks will be awarded for\n",
    "participation and engagement.\n",
    "\n",
    "**Deadline** is next Monday at 5pm."
   ]
  },
  {
   "cell_type": "markdown",
   "metadata": {},
   "source": [
    "## Setup"
   ]
  },
  {
   "cell_type": "markdown",
   "metadata": {},
   "source": [
    "This is a `jupyter` notebook.  Find an environment that allows you to work with it.  You can either\n",
    "install `jupyter` as a python packag on your own laptop or PC.  Or you can use a suitable website\n",
    "on the internet, such as [nbviewer](https://nbviewer.jupyter.org/github/cs4423) and `binder`.\n",
    "\n",
    "The following packages need to be loaded.  In order to execute the code in a box,\n",
    "use the mouse or arrow keys to highlight the box and then press SHIFT-RETURN.\n",
    "\n",
    "Should it ever happen that the notebook becomes unusable, start again with a fresh copy."
   ]
  },
  {
   "cell_type": "code",
   "execution_count": 2,
   "metadata": {},
   "outputs": [],
   "source": [
    "import networkx as nx\n",
    "import matplotlib.pyplot as plt"
   ]
  },
  {
   "cell_type": "markdown",
   "metadata": {},
   "source": [
    "##  1. Warmup.\n",
    "\n",
    "The purpose of this task is to get you used to working with the `networkx` package\n",
    "in the `jupyter` notebook environment.\n",
    "\n",
    "1. Define a new (simple) graph `G` on the vertex set $X = \\{0, 1, 2, 3, 4, 5, 6, 7, 8, 9\\}$\n",
    "with edges $0-1$, $1-2$, $2-3$, $3-4$, $4-5$, $5-6$, $6-7$, $7-8$, $8-9$, and $9-0$.\n",
    "Draw the graph.  Hence or otherwise determine its **order** (the number of nodes)\n",
    "and its **size** (the number of links)."
   ]
  },
  {
   "cell_type": "code",
   "execution_count": null,
   "metadata": {},
   "outputs": [],
   "source": []
  },
  {
   "cell_type": "markdown",
   "metadata": {},
   "source": [
    "2. Find the **adjacency matrix** `A` of the graph `G`.  Then compute its square, $A^2$,\n",
    "and draw the graph `G2` that has $A^2$ as its adjacency matrix.  What are the connected components of `G2`? "
   ]
  },
  {
   "cell_type": "code",
   "execution_count": null,
   "metadata": {},
   "outputs": [],
   "source": []
  },
  {
   "cell_type": "markdown",
   "metadata": {},
   "source": [
    "##  2.  Projections"
   ]
  },
  {
   "cell_type": "code",
   "execution_count": null,
   "metadata": {},
   "outputs": [],
   "source": []
  },
  {
   "cell_type": "markdown",
   "metadata": {},
   "source": [
    "## 3. A Collaborations Network"
   ]
  },
  {
   "cell_type": "markdown",
   "metadata": {},
   "source": [
    "The **social graph** of a node $x$ in a (social) network\n",
    "is the **induced subgraph** on the set of friends of $x$\n",
    "(that is the graph which has (only) the friends of $x$\n",
    "as its vertices, and between them all the edges from the\n",
    "original network).\n",
    "The **clustering coefficient** of $x$ is the density\n",
    "$m / \\binom{n}{2}$\n",
    "of the social graph of $x$, the proportion its number of edges,\n",
    "$m$, and its potential number of edges, $\\binom{n}{2} = \\frac12 n(n-1)$,\n",
    "where $n$ is its number of vertices.\n",
    "\n",
    "[MathSciNet](http://www.ams.org/mathscinet) describes \n",
    "the social network of mathematical researchers defined\n",
    "by collaboration.\n",
    "\n",
    "**Pick** a (local) mathematician with at least $10$\n",
    "friends (i.e., co-authors), determine their social graph\n",
    "and hence compute their clustering coefficient.\n"
   ]
  },
  {
   "cell_type": "code",
   "execution_count": null,
   "metadata": {},
   "outputs": [],
   "source": []
  },
  {
   "cell_type": "markdown",
   "metadata": {},
   "source": [
    "## 4.  The Counties of Ireland."
   ]
  },
  {
   "cell_type": "markdown",
   "metadata": {},
   "source": [
    "Define a graph `I` on the $32$ counties of Ireland by\n",
    "joining two counties whenever they have a common border.\n",
    "(A list of county names, suitable for cut-and-paste,\n",
    "can be found on the [internet](http://www.waterfordwebdesign.ie/alphabetical-list-32-counties-ireland/))\n",
    "\n",
    "What is the order and the size of the resulting graph?\n",
    "\n",
    "In terms of centrality measures, what are the $3$ most central counties, for\n",
    "1.  degree centrality?\n",
    "1.  \n",
    "\n"
   ]
  },
  {
   "cell_type": "code",
   "execution_count": null,
   "metadata": {},
   "outputs": [],
   "source": []
  }
 ],
 "metadata": {
  "kernelspec": {
   "display_name": "Python 3",
   "language": "python",
   "name": "python3"
  },
  "language_info": {
   "codemirror_mode": {
    "name": "ipython",
    "version": 3
   },
   "file_extension": ".py",
   "mimetype": "text/x-python",
   "name": "python",
   "nbconvert_exporter": "python",
   "pygments_lexer": "ipython3",
   "version": "3.7.2"
  }
 },
 "nbformat": 4,
 "nbformat_minor": 2
}
